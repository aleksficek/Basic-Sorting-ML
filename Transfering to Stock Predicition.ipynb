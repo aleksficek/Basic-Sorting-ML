{
 "cells": [
  {
   "cell_type": "code",
   "execution_count": 2,
   "metadata": {},
   "outputs": [],
   "source": [
    "%matplotlib inline\n",
    "from matplotlib import pyplot as plt"
   ]
  },
  {
   "cell_type": "code",
   "execution_count": 3,
   "metadata": {},
   "outputs": [],
   "source": [
    "import numpy as np"
   ]
  },
  {
   "cell_type": "code",
   "execution_count": 4,
   "metadata": {},
   "outputs": [],
   "source": [
    "# each point is length, width, type (0,1)\n",
    "data = [[298.33, 298.33, 299.02, 284.96, 294.84, 295.2, 289.46, 290.54, 279.44, 285.5],\n",
    "        [263.24, 280.95, 280.74, 288.95, 301.66, 303.15, 305.01, 311.86, 319.27, 322.82],\n",
    "        [320.1, 321.64, 321.9, 308.44, 305.5, 335.45, 338.69, 347.64, 356.41, 355.49],\n",
    "        [352.45, 370.34, 379.57, 341.99, 348.17, 349.54, 300.84, 298.14, 290.17, 297.18],\n",
    "        [306.65, 308.74, 297.43, 303.2, 313.58, 320.23, 323.85, 322.69, 310.1, 318.87],\n",
    "        [316.71, 318.96, 322.47, 318.51, 308.9, 309.16, 310.86, 335.07, 342.95, 349.93],\n",
    "        [344.5, 342, 333.01, 333.63, 347.51, 362.22, 352.55, 370.83, 358.17, 357.72],\n",
    "        [344.78, 342.77, 332.1, 317.66, 316.09, 319.5, 291.13, 296.74, 291.82, 284.73]]"
   ]
  },
  {
   "cell_type": "code",
   "execution_count": 5,
   "metadata": {},
   "outputs": [
    {
     "data": {
      "image/png": "[encoded data removed]",
      "text/plain": [
       "<Figure size 432x288 with 1 Axes>"
      ]
     },
     "metadata": {
      "needs_background": "light"
     },
     "output_type": "display_data"
    }
   ],
   "source": [
    "# network\n",
    "#    o circle type\n",
    "#   / \\ w1, w2, b\n",
    "#  o   o length, width\n",
    "\n",
    "# scatter plot them\n",
    "def vis_data():\n",
    "    plt.grid()\n",
    "\n",
    "    for i in range(len(data)):\n",
    "        for j in range(0, 9):\n",
    "            c = 'r'\n",
    "            plt.scatter(i, [data[i][j]], c=c)\n",
    "\n",
    "#    plt.scatter([mystery_circle[0]], [mystery_circle[1]], c='gray')\n",
    "\n",
    "vis_data()"
   ]
  },
  {
   "cell_type": "code",
   "execution_count": 6,
   "metadata": {},
   "outputs": [
    {
     "data": {
      "image/png": "[encoded data removed]",
      "text/plain": [
       "<Figure size 432x288 with 1 Axes>"
      ]
     },
     "metadata": {
      "needs_background": "light"
     },
     "output_type": "display_data"
    }
   ],
   "source": [
    "def sigmoid(x):\n",
    "    return 1/(1 + np.exp(-x))\n",
    "\n",
    "def sigmoid_p(x):\n",
    "    return sigmoid(x) * (1 - sigmoid(x))\n",
    "\n",
    "\n",
    "X = np.linspace(-5, 5, 100)\n",
    "\n",
    "plt.plot(X, sigmoid(X), c=\"b\") # sigmoid in blue\n",
    "fig = plt.plot(X, sigmoid_p(X), c=\"r\") # sigmoid_p in red"
   ]
  },
  {
   "cell_type": "code",
   "execution_count": 7,
   "metadata": {},
   "outputs": [],
   "source": [
    "T = np.linspace(-5, 5, 10)"
   ]
  },
  {
   "cell_type": "code",
   "execution_count": 8,
   "metadata": {},
   "outputs": [
    {
     "data": {
      "text/plain": [
       "array([-5.        , -3.88888889, -2.77777778, -1.66666667, -0.55555556,\n",
       "        0.55555556,  1.66666667,  2.77777778,  3.88888889,  5.        ])"
      ]
     },
     "execution_count": 8,
     "metadata": {},
     "output_type": "execute_result"
    }
   ],
   "source": [
    "T"
   ]
  },
  {
   "cell_type": "code",
   "execution_count": 9,
   "metadata": {},
   "outputs": [],
   "source": [
    "Y = sigmoid(T)"
   ]
  },
  {
   "cell_type": "code",
   "execution_count": 10,
   "metadata": {},
   "outputs": [
    {
     "data": {
      "text/plain": [
       "array([0.00669285, 0.02005754, 0.0585369 , 0.1588691 , 0.36457644,\n",
       "       0.63542356, 0.8411309 , 0.9414631 , 0.97994246, 0.99330715])"
      ]
     },
     "execution_count": 10,
     "metadata": {},
     "output_type": "execute_result"
    }
   ],
   "source": [
    "Y"
   ]
  },
  {
   "cell_type": "code",
   "execution_count": 11,
   "metadata": {},
   "outputs": [
    {
     "data": {
      "image/png": "[encoded data removed]",
      "text/plain": [
       "<Figure size 432x288 with 1 Axes>"
      ]
     },
     "metadata": {
      "needs_background": "light"
     },
     "output_type": "display_data"
    }
   ],
   "source": [
    "# training loop\n",
    "def train():\n",
    "    \n",
    "    iterations = 10000\n",
    "    learning_rate = 0.2\n",
    "    costs = [] # keep costs during training, see if they go down\n",
    "\n",
    "    w1 = np.random.randn()\n",
    "    w2 = np.random.randn()\n",
    "    w3 = np.random.randn()\n",
    "    w4 = np.random.randn()\n",
    "    w5 = np.random.randn()\n",
    "    w6 = np.random.randn()\n",
    "    w7 = np.random.randn()\n",
    "    w8 = np.random.randn()\n",
    "    w9 = np.random.randn()\n",
    "    b = np.random.randn()\n",
    "\n",
    "    for i in range(1, 50000):\n",
    "        ri = np.random.randint(len(data))\n",
    "        point = data[ri]\n",
    "\n",
    "        z = (point[1] * w1 + point[2] * w2 +\n",
    "        point[3] * w3 + point[4] * w4 + point[5] * w5 +\n",
    "        point[6] * w6 + point[7] * w7 + point[8] * w8 + point[9] * w9 + b)\n",
    "\n",
    "        pred = sigmoid(z)\n",
    "\n",
    "        target = sigmoid(point[0])\n",
    "        cost = np.square(pred - target)\n",
    "    #   print(point, cost)\n",
    "        if i % 100 == 0:\n",
    "            c = 0\n",
    "            for j in range(1,10):\n",
    "                p_pred = sigmoid(point[1] * w1 + point[2] * w2 +\n",
    "                point[3] * w3 + point[4] * w4 + point[5] * w5 +\n",
    "                point[6] * w6 + point[7] * w7 + point[8] * w8 + point[9] * w9 + b)\n",
    "                c += np.square(p_pred - sigmoid(point[0]))\n",
    "                                   \n",
    "            costs.append(c)\n",
    "\n",
    "        dcost_pred = 2 * (pred - target)\n",
    "        dpred_dz = sigmoid_p(z)\n",
    "        dz_dw1 = point[1]\n",
    "        dz_dw2 = point[2]\n",
    "        dz_dw3 = point[3]\n",
    "        dz_dw4 = point[4]\n",
    "        dz_dw5 = point[5]\n",
    "        dz_dw6 = point[6]\n",
    "        dz_dw7 = point[7]\n",
    "        dz_dw8 = point[8]\n",
    "        dz_dw9 = point[9]\n",
    "        dz_db = 1\n",
    "\n",
    "        dcost_dz = dcost_pred * dpred_dz\n",
    "\n",
    "        dcost_dw1 = dcost_pred * dpred_dz * dz_dw1\n",
    "        dcost_dw2 = dcost_pred * dpred_dz * dz_dw2\n",
    "        dcost_dw3 = dcost_pred * dpred_dz * dz_dw3\n",
    "        dcost_dw4 = dcost_pred * dpred_dz * dz_dw4\n",
    "        dcost_dw5 = dcost_pred * dpred_dz * dz_dw5\n",
    "        dcost_dw6 = dcost_pred * dpred_dz * dz_dw6\n",
    "        dcost_dw7 = dcost_pred * dpred_dz * dz_dw7\n",
    "        dcost_dw8 = dcost_pred * dpred_dz * dz_dw8\n",
    "        dcost_dw9 = dcost_pred * dpred_dz * dz_dw9\n",
    "        dcost_db = dcost_dz * dz_db\n",
    "\n",
    "        w1 = w1 - learning_rate * dcost_dw1\n",
    "        w2 = w2 - learning_rate * dcost_dw2\n",
    "        w3 = w3 - learning_rate * dcost_dw3\n",
    "        w4 = w4 - learning_rate * dcost_dw4\n",
    "        w5 = w5 - learning_rate * dcost_dw5\n",
    "        w6 = w6 - learning_rate * dcost_dw6\n",
    "        w7 = w7 - learning_rate * dcost_dw7\n",
    "        w8 = w8 - learning_rate * dcost_dw8\n",
    "        w9 = w9 - learning_rate * dcost_dw9\n",
    "\n",
    "        b = b - learning_rate * dcost_db    \n",
    "    \n",
    "    return costs, w1, w2, w3, w4, w5, w6, w7, w8, w9, b\n",
    "costs, w1, w2, w3, w4, w5, w6, w7, w8, w9, b = train()\n",
    "\n",
    "fig = plt.plot(costs)"
   ]
  },
  {
   "cell_type": "code",
   "execution_count": 12,
   "metadata": {},
   "outputs": [
    {
     "name": "stdout",
     "output_type": "stream",
     "text": [
      "[298.33, 298.33, 299.02, 284.96, 294.84, 295.2, 289.46, 290.54, 279.44, 285.5]\n",
      "-153.71733187191526\n",
      "[263.24, 280.95, 280.74, 288.95, 301.66, 303.15, 305.01, 311.86, 319.27, 322.82]\n",
      "-213.42881660333498\n",
      "[320.1, 321.64, 321.9, 308.44, 305.5, 335.45, 338.69, 347.64, 356.41, 355.49]\n",
      "-274.8140742498817\n",
      "[352.45, 370.34, 379.57, 341.99, 348.17, 349.54, 300.84, 298.14, 290.17, 297.18]\n",
      "-104.45532269298201\n",
      "[306.65, 308.74, 297.43, 303.2, 313.58, 320.23, 323.85, 322.69, 310.1, 318.87]\n",
      "-189.4598493220663\n",
      "[316.71, 318.96, 322.47, 318.51, 308.9, 309.16, 310.86, 335.07, 342.95, 349.93]\n",
      "-264.27312682437383\n",
      "[344.5, 342, 333.01, 333.63, 347.51, 362.22, 352.55, 370.83, 358.17, 357.72]\n",
      "-231.3908210445093\n",
      "[344.78, 342.77, 332.1, 317.66, 316.09, 319.5, 291.13, 296.74, 291.82, 284.73]\n",
      "-143.57968446638375\n"
     ]
    }
   ],
   "source": [
    "# scatter data\n",
    "\n",
    "for i in range(len(data)):\n",
    "    point = data[i]\n",
    "    print(point)\n",
    "    z = point[0] * w1 + point[1] * w2 + b\n",
    "    pred = (point[1] * w1 + point[2] * w2 +\n",
    "                point[3] * w3 + point[4] * w4 + point[5] * w5 +\n",
    "                point[6] * w6 + point[7] * w7 + point[8] * w8 + point[9] * w9 + b)\n",
    "    print(pred)"
   ]
  },
  {
   "cell_type": "code",
   "execution_count": 13,
   "metadata": {},
   "outputs": [
    {
     "ename": "NameError",
     "evalue": "name 'mystery_flower' is not defined",
     "output_type": "error",
     "traceback": [
      "\u001b[1;31m---------------------------------------------------------------------------\u001b[0m",
      "\u001b[1;31mNameError\u001b[0m                                 Traceback (most recent call last)",
      "\u001b[1;32m<ipython-input-13-23d346f511e3>\u001b[0m in \u001b[0;36m<module>\u001b[1;34m()\u001b[0m\n\u001b[1;32m----> 1\u001b[1;33m \u001b[0mz\u001b[0m \u001b[1;33m=\u001b[0m \u001b[0mmystery_flower\u001b[0m\u001b[1;33m[\u001b[0m\u001b[1;36m0\u001b[0m\u001b[1;33m]\u001b[0m \u001b[1;33m*\u001b[0m \u001b[0mw1\u001b[0m \u001b[1;33m+\u001b[0m \u001b[0mmystery_flower\u001b[0m\u001b[1;33m[\u001b[0m\u001b[1;36m1\u001b[0m\u001b[1;33m]\u001b[0m \u001b[1;33m*\u001b[0m \u001b[0mw2\u001b[0m \u001b[1;33m+\u001b[0m \u001b[0mb\u001b[0m\u001b[1;33m\u001b[0m\u001b[0m\n\u001b[0m\u001b[0;32m      2\u001b[0m \u001b[0mpred\u001b[0m \u001b[1;33m=\u001b[0m \u001b[0msigmoid\u001b[0m\u001b[1;33m(\u001b[0m\u001b[0mz\u001b[0m\u001b[1;33m)\u001b[0m\u001b[1;33m\u001b[0m\u001b[0m\n\u001b[0;32m      3\u001b[0m \u001b[0mpred\u001b[0m\u001b[1;33m\u001b[0m\u001b[0m\n",
      "\u001b[1;31mNameError\u001b[0m: name 'mystery_flower' is not defined"
     ]
    }
   ],
   "source": [
    "z = mystery_circle[0] * w1 + mystery_circle[1] * w2 + b\n",
    "pred = sigmoid(z)\n",
    "pred"
   ]
  },
  {
   "cell_type": "code",
   "execution_count": 14,
   "metadata": {},
   "outputs": [],
   "source": [
    "def which_circle(length, width):\n",
    "    z = length * w1 + width * w2 + b\n",
    "    pred = sigmoid(z)\n",
    "    if pred < .5:\n",
    "        print(\"circle is blue\")\n",
    "    else:\n",
    "        print(\"circle is red\")"
   ]
  },
  {
   "cell_type": "code",
   "execution_count": 15,
   "metadata": {},
   "outputs": [
    {
     "name": "stdout",
     "output_type": "stream",
     "text": [
      "Flower is red\n"
     ]
    }
   ],
   "source": [
    "which_circle(4, 2)"
   ]
  },
  {
   "cell_type": "code",
   "execution_count": 16,
   "metadata": {},
   "outputs": [
    {
     "name": "stdout",
     "output_type": "stream",
     "text": [
      "280.74\n"
     ]
    }
   ],
   "source": [
    "test = data[1]\n",
    "print(test[2])"
   ]
  },
  {
   "cell_type": "code",
   "execution_count": null,
   "metadata": {},
   "outputs": [],
   "source": []
  },
  {
   "cell_type": "code",
   "execution_count": null,
   "metadata": {},
   "outputs": [],
   "source": []
  },
  {
   "cell_type": "code",
   "execution_count": null,
   "metadata": {},
   "outputs": [],
   "source": []
  }
 ],
 "metadata": {
  "kernelspec": {
   "display_name": "Python 3",
   "language": "python",
   "name": "python3"
  },
  "language_info": {
   "codemirror_mode": {
    "name": "ipython",
    "version": 3
   },
   "file_extension": ".py",
   "mimetype": "text/x-python",
   "name": "python",
   "nbconvert_exporter": "python",
   "pygments_lexer": "ipython3",
   "version": "3.7.0"
  }
 },
 "nbformat": 4,
 "nbformat_minor": 2
}
